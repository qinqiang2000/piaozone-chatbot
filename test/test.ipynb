{
 "cells": [
  {
   "cell_type": "code",
   "execution_count": 5,
   "id": "a623de7a",
   "metadata": {},
   "outputs": [
    {
     "name": "stdout",
     "output_type": "stream",
     "text": [
      "Requirement already satisfied: faiss-cpu in /Library/Frameworks/Python.framework/Versions/3.10/lib/python3.10/site-packages (1.7.4)\n",
      "Note: you may need to restart the kernel to use updated packages.\n"
     ]
    }
   ],
   "source": [
    "pip install faiss-cpu"
   ]
  },
  {
   "cell_type": "code",
   "execution_count": 4,
   "id": "63ac0287",
   "metadata": {},
   "outputs": [],
   "source": [
    "import sys\n",
    "sys.path.append(\"..\") #把上级目录加入到变量中\n",
    "from langchain import FAISS\n",
    "from langchain.embeddings import OpenAIEmbeddings\n",
    "from langchain.chat_models import ChatOpenAI\n",
    "import os\n",
    "import logging\n",
    "from config import OPENAI_API_KEY, FAISS_DB_PATH\n",
    "from query_data import get_chain, get_citations\n",
    "\n",
    "\n",
    "sk = \"sk\"\n",
    "dash = \"-\"\n",
    "my_key= \"VgaqoS0BbjxbVN7RFWcJT3BlbkFJYy3W265nnshPERsxhFMy\"\n",
    "os.environ['OPENAI_API_KEY'] = sk + dash + my_key"
   ]
  },
  {
   "cell_type": "code",
   "execution_count": 54,
   "id": "85414f0c",
   "metadata": {},
   "outputs": [],
   "source": [
    "# Load from existing index\n",
    "rds = FAISS.load_local(\"../db\", OpenAIEmbeddings())"
   ]
  },
  {
   "cell_type": "code",
   "execution_count": 74,
   "id": "b9d63cfc",
   "metadata": {},
   "outputs": [
    {
     "name": "stdout",
     "output_type": "stream",
     "text": [
      "星空支持全电发票须知\n",
      "\n",
      "目前星空企业版有两种途径支持全电发票：1、https://www.yuque.com/piaozone/rou5ks/ei5cmu4z9vsm241g?singleDoc# 《星空升级全电配置（RPA）》\n",
      "\n",
      "星空无需改动，在发票云公众号申请升级后简单配置即可，升级后在星空中点击【电子发票开具】按钮会自动开具全电发票\n",
      "\n",
      "不支持特殊行业全电发票开票，不支持同一时间并行开具税控发票和全电发票，需手工切换设置\n",
      "\n",
      "适用版本：\n",
      "\n",
      "金蝶云版本（星空）：7.6及以上版本\n",
      "\n",
      "配套所购金蝶云模块要求：应收模块+发票管理模块\n",
      "\n",
      "2、https://www.yuque.com/piaozone/rou5ks/qlz93cbz0qylr1he?singleDoc# 《星空企业版补丁包——全电开票实施文档（RPA）》\n",
      "\n",
      "系统集成星瀚发票云，需要打补丁包，将原有星空开票单据替换为星瀚发票云单据，需要走商务以及实施\n",
      "\n",
      "支持特殊行业全电发票开票，支持同一时间并行开具税控发票和全电发票\n",
      "\n",
      "适用版本：\n",
      "\n",
      "星空7.2及以上私有云版本、公有云单租户版本（销售增值税发票以及金税开票单无二开过）\n",
      "\n",
      "配套所购金蝶云模块要求：应收模块+发票管理模块\n",
      "\n",
      "请按照实际情况选择对接方式，谢谢。\n",
      " ========================\n",
      "金蝶云星空【单机版纸电一体开票服务】实施文档\n",
      "\n",
      "1.   实施说明\n",
      "\n",
      "1.1发票云产品对接ERP产品线要求清单\n",
      "\n",
      "1、金蝶云版本：7.3以上版本  2、配套所购金蝶云模块要求：应收模块+发票管理模块3、金蝶云补丁：建议打上金蝶云最新的补丁（建议安装Cloud最新的补丁，金税对接的功能是持续完善的，并且Cloud的税收分类编码目前是在补丁中升级，所以建议经常打最新补丁，以便获得较好的使用体验）\n",
      "\n",
      "1.2实施流程\n",
      "\n",
      "实施前请先确认清楚税盘类型（航信/百望），ERP版本（例如金蝶云7.3），发票云产品类型，约定产品使用的具体场景，以便于后续实施工作的开展。发票云纸电一体实施流程如下：\n",
      "\n",
      "2.发票云产品激活\n",
      "\n",
      "产品出库后，发票云将发送一封激活邮件至填写的出库邮箱地址，按照操作提示完成激活即可。 详细激活流程可参考（必看）：https://www.yuque.com/docs/share/dabc5f5a-beac-472f-ad2e-4d9eda96da85?# 《发票云产品激活说明》  \n",
      "所有激活工作完成后，将会获得以下信息，1.发票云授权信息client_id,client_secret,Encrypt_key用于配置erp开票参数\n",
      "2.航天注册码，注册码将在提交申请的1-2个工作日后生成。百望和税务UKEY无需单独提交，注册码可马上生成 。\n",
      "\n",
      "注意！！：请确认以上工作均完成，否则将影响开票。\n",
      "\n",
      "3.发票云环境配置\n",
      "\n",
      "发票云开票环境配置需要做以下准备工作及操作，首先税控开票机器需要保证安装了开票软件并且能正常使用，在使用金蝶发票云开票时，税控开票软件要保持关闭状态（开票机器即为客户原来插税盘开票的电脑，金蝶云用户通过访问该机器完成开票）部署示意图如下：\n",
      "如果是航天的税盘就需要航天的开票软件，如果是百望的，就需要百旺的开票软件航天开票软件： \n",
      " 百望开票软件：\n",
      "\n",
      "请注意同一时间电脑只能插一个税盘开票，可切换插在电脑的税盘，不支持插多个税盘同时使用。\n",
      "\n",
      "3.1下载安装发票云管理程序\n",
      "\n",
      "安装包下载地址：https://tax.piaozone.com/download 【金蝶发票管理】\n",
      "\n",
      "当有版本更新时，直接启动程序即可在线更新。\n",
      "\n",
      "3.2 发票云组件初始化安装\n",
      "\n",
      "(1)税盘类型：根据实际使用情况选择\n",
      "\n",
      "(2)税盘模式：如果税盘部署在电脑PC端的一般都是单机版；\n",
      " ========================\n",
      "星空企业版补丁包——全电开票实施文档（乐企）\n",
      "\n",
      "请确认您的企业已完成乐企准入流程并开通基础开票能力，如有疑问可联系发票云实施人员\n",
      "\n",
      "方案介绍\n",
      "\n",
      "适用客户：适用于星空7.2及以上私有云版本、公有云单租户版本方案介绍：\n",
      "\n",
      "集成星瀚公有云环境，将开票流程从原有的【应收单——销售增值税发票单——金税开票单】流程替换为 【应收单——开票单——开票申请单（星瀚）】\n",
      "\n",
      "金税开票单屏蔽，开票、红冲作废流程均由开票单承接\n",
      "\n",
      "开票完成后发票数据回写至开票单，并触发应收单自动生成销售发票单用以做开票核销\n",
      "\n",
      "发票数据统一在星瀚销项票池管理\n",
      "\n",
      "合并、拆分、备注、开票人、短信邮箱等可自定义配置方案，开票数据处理均走星瀚发票云配置\n",
      "\n",
      "一、补丁包安装\n",
      "\n",
      "1、在打补丁包前请备份数据中心  ，打补丁以及配置时请停止业务操作2、请在星空服务器安装发票云对应补丁包3、若对接测试环境：安装目录\\Kingdee\\K3Cloud\\WebSite\\App_Data\\Common.config在appSetting中添加：https://xinghan-test.piaozone.com/test01/\" /> https://xinghan-test.piaozone.com/test01/\" /> https://api-sit.piaozone.com/\" />\n",
      "\n",
      "二、初始化配置\n",
      "\n",
      "三、应收单下推开票\n",
      "\n",
      "1、应收单列表选择所要开票的行，点击金税开票按钮，下推生成开票申请单 \n",
      "2、选中单据，可以进入单据检查开票数据，并支持手工修改开票信息和购销方信息等\n",
      "3、检查无误后，经过提交、审核后点击一键开票\n",
      "\n",
      "可选择开票设备，以及是否进行明细合并（不支持单据合并）\n",
      "\n",
      "4、开票成功后，星空定时任务（默认十分钟，可调整）触发对应已开票的应收单生成销售发票单\n",
      "\n",
      "四、开票申请单功能按钮\n",
      "\n",
      "1、单据处理●单据处理可以在开票工作台中对单据进行合并拆分，灵活处理单据\n",
      "●明细行合并的规则配置在税企协同服务–>基础设置–>发票云开票配置–>合并配置\n",
      "\n",
      "拆分规则配置在税企协同服务–>基础设置–>发票云开票配置–>拆分配置\n",
      "\n",
      "2、下查●当开票申请进行过下推（提交到待开、提交到红字信息表、已开票的发票），都可以通过下查快速查询到关联的数据\n",
      " ========================\n",
      "星空企业版补丁包——全电平台收票实施文档\n",
      "\n",
      "方案介绍\n",
      "\n",
      "适用客户：适用于星空7.2及以上私有云版本、公有云单租户版本（收票单无二开过）方案介绍：\n",
      "\n",
      "嵌入星瀚发票云页面，发票下载、抵扣勾选等在星瀚发票云进行\n",
      "\n",
      "发票数据定时拉回至星空，自动生成收票单并更新勾选认证状态\n",
      "\n",
      "统一进项票池管理\n",
      "\n",
      "一、补丁包安装\n",
      "\n",
      "1、在打补丁包前请备份数据中心  ，打补丁以及配置时请停止业务操作2、请在星空服务器安装发票云对应补丁包\n",
      "\n",
      "二、初始化\n",
      "\n",
      "https://xinghan-test.piaozone.com/test01/\n",
      "发票云同步URL：\n",
      "\n",
      "https://api-sit.piaozone.com/\n",
      "\n",
      "三、发票云客户端安装\n",
      "\n",
      "若未下载过发票智慧管家：1、进入发票云基础设置→电子发票服务平台账号页面，点击【升级全电发票】。\n",
      "\n",
      "若星空已下载过发票智慧管家：1、发票云基础设置——电子发票服务平台\n",
      "\n",
      "\n",
      "2、打开发票智慧管家后，点击更新按钮\n",
      "\n",
      "四、历史发票数据迁移\n",
      "\n",
      "路径：发票云收票设置——公有云数据同步\n",
      "\n",
      "\n",
      "点击手工同步，选择需要同步的企业，设置数据时间（同步从哪天开始新增的发票），点击同步\n",
      "\n",
      "五、发票下载\n",
      "\n",
      "1、发票归集——全量发票数据同步设置\n",
      "\n",
      "\n",
      " 全量发票数据同步设置可对指定核算组织、下载进销项类型、下载发票类型、下载开始日期配置定时任务，保存成功后列表新增记录。“下载进销项类型”:默认进项和销项。”下载发票类型”:默认所有可下载的发票。”下载开始日期”:进销项下载起始日期,默认下载一年内的发票。“启用状态”:已启用的状态,定时任务才会自动下载\n",
      "\n",
      "2、发票归集——进项发票关键要素同步\n",
      "\n",
      " 选择开票日期、核算组织、发票类型、管理状态、发票状态，点击【下载发票】即可下载，下载的发票查验成功后入全票池。\n",
      "\n",
      "六、增值税发票勾选\n",
      "\n",
      "1、发票抵扣——增值税抵扣勾选\n",
      "\n",
      "\n",
      "可以对纸质专用发票、电子专用发票、全电专票、机动车发票、通行费发票进行抵扣勾选及撤销勾选操作。\n",
      "\n",
      "1、发票抵扣——增值税不抵扣勾选 可以对纸质专用发票、电子专用发票、全电专票、机动车发票、通行费发票进行不抵扣勾选及撤销勾选操作。\n",
      "\n",
      "七、抵扣认证\n",
      "\n",
      "1、进项抵扣——当期抵扣勾选统计查询当期税控所属期的统计信息，通过统计清单查询当期具体发票信息；历史属期抵扣勾选统计可查询历史属期的勾选统计表及发票信息。\n",
      " ========================\n"
     ]
    }
   ],
   "source": [
    "query = \"星空如何设置单机版纸电一体开票服务？\"\n",
    "results = rds.similarity_search_with_score(query)\n",
    "for r in results:\n",
    "    print(r[0].page_content + \"\\n ========================\")"
   ]
  },
  {
   "cell_type": "code",
   "execution_count": 56,
   "id": "a811bb80",
   "metadata": {},
   "outputs": [],
   "source": [
    "retriever = rds.as_retriever()\n",
    "# retriever.search_kwargs['k'] = 2\n",
    "chatbot = get_chain(retriever)\n",
    "# create a chat history buffer\n",
    "chat_history = []"
   ]
  },
  {
   "cell_type": "code",
   "execution_count": 75,
   "id": "73c25a82",
   "metadata": {},
   "outputs": [
    {
     "name": "stdout",
     "output_type": "stream",
     "text": [
      "Sorry，发票云知识库找不到合适答案。我会补充来自ChatGPT的回应..."
     ]
    }
   ],
   "source": [
    "# gather user input for the first question to kick off the bot\n",
    "query = \"星空如何设置单机版纸电一体开票服务？\"\n",
    "\n",
    "result = chatbot({\"question\": query, \"chat_history\": chat_history})"
   ]
  },
  {
   "cell_type": "code",
   "execution_count": 78,
   "id": "b5ed197b",
   "metadata": {},
   "outputs": [],
   "source": [
    "from langchain.chains import RetrievalQA\n",
    "from langchain.llms import OpenAI\n",
    "qa = RetrievalQA.from_chain_type(llm=ChatOpenAI(temperature=0), chain_type=\"stuff\", retriever=retriever, return_source_documents=True)"
   ]
  },
  {
   "cell_type": "code",
   "execution_count": 82,
   "id": "55d2089b",
   "metadata": {},
   "outputs": [
    {
     "data": {
      "text/plain": [
       "'\\n更多详情，请参考：[星空企业版补丁包——全电开票实施文档（乐企）：https://www.yuque.com/piaozone/implement/qvox7ovri35qd1s2] [金蝶云星空【单机版纸电一体开票服务】实施文档：https://www.yuque.com/piaozone/implement/ncb74y] [星空企业版补丁包——全电平台收票实施文档：https://www.yuque.com/piaozone/implement/gzgdq2ukskigi714] [星空支持全电发票须知：https://www.yuque.com/piaozone/implement/aiwgkrqlgcet11xh]\\n'"
      ]
     },
     "execution_count": 82,
     "metadata": {},
     "output_type": "execute_result"
    }
   ],
   "source": [
    "# ret = qa({\"query\": \"黑客帝国有几部？\"})\n",
    "ret = qa({\"query\": query})\n",
    "f\"\\n更多详情，请参考：{get_citations(ret['source_documents'])}\\n\""
   ]
  },
  {
   "cell_type": "code",
   "execution_count": null,
   "id": "5dfa24d9",
   "metadata": {},
   "outputs": [],
   "source": []
  }
 ],
 "metadata": {
  "kernelspec": {
   "display_name": "venv",
   "language": "python",
   "name": "venv"
  },
  "language_info": {
   "codemirror_mode": {
    "name": "ipython",
    "version": 3
   },
   "file_extension": ".py",
   "mimetype": "text/x-python",
   "name": "python",
   "nbconvert_exporter": "python",
   "pygments_lexer": "ipython3",
   "version": "3.10.11"
  }
 },
 "nbformat": 4,
 "nbformat_minor": 5
}
