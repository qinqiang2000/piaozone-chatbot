{
 "cells": [
  {
   "cell_type": "code",
   "execution_count": null,
   "id": "a623de7a",
   "metadata": {},
   "outputs": [],
   "source": [
    "pip install faiss-cpu"
   ]
  },
  {
   "cell_type": "code",
   "execution_count": null,
   "id": "63ac0287",
   "metadata": {},
   "outputs": [],
   "source": [
    "import sys\n",
    "sys.path.append(\"..\") #把上级目录加入到变量中\n",
    "from langchain import FAISS\n",
    "from langchain.embeddings import OpenAIEmbeddings\n",
    "from langchain.chat_models import ChatOpenAI\n",
    "import os\n",
    "import logging\n",
    "from config import OPENAI_API_KEY, FAISS_DB_PATH\n",
    "from query_data import get_chain, get_citations\n",
    "\n",
    "\n",
    "sk = \"sk\"\n",
    "dash = \"-\"\n",
    "my_key= \"VgaqoS0BbjxbVN7RFWcJT3BlbkFJYy3W265nnshPERsxhFMy\"\n",
    "os.environ['OPENAI_API_KEY'] = sk + dash + my_key"
   ]
  },
  {
   "cell_type": "code",
   "execution_count": null,
   "id": "85414f0c",
   "metadata": {},
   "outputs": [],
   "source": [
    "# Load from existing index\n",
    "rds = FAISS.load_local(\"../db\", OpenAIEmbeddings())"
   ]
  },
  {
   "cell_type": "code",
   "execution_count": null,
   "id": "b9d63cfc",
   "metadata": {},
   "outputs": [],
   "source": [
    "query = \"星空如何设置单机版纸电一体开票服务？\"\n",
    "results = rds.similarity_search_with_score(query)\n",
    "for r in results:\n",
    "    print(r[0].page_content + \"\\n ========================\")"
   ]
  },
  {
   "cell_type": "code",
   "execution_count": null,
   "id": "a5b372ac",
   "metadata": {},
   "outputs": [],
   "source": [
    "retriever = rds.as_retriever()\n",
    "retriever.search_kwargs['k'] = 3\n",
    "chatbot = get_chain(retriever)\n",
    "# create a chat history buffer\n",
    "chat_history = []"
   ]
  },
  {
   "cell_type": "code",
   "execution_count": null,
   "id": "1585f5d6",
   "metadata": {},
   "outputs": [],
   "source": [
    "# gather user input for the first question to kick off the bot\n",
    "query = \"星空如何设置单机版纸电一体开票服务？\"\n",
    "\n",
    "result = chatbot({\"question\": query, \"chat_history\": chat_history})"
   ]
  },
  {
   "cell_type": "code",
   "execution_count": null,
   "id": "c4f733a0",
   "metadata": {},
   "outputs": [],
   "source": [
    "from langchain.chains import RetrievalQA\n",
    "from langchain.llms import OpenAI\n",
    "qa = RetrievalQA.from_chain_type(llm=ChatOpenAI(temperature=0), chain_type=\"stuff\",\n",
    "                                 retriever=retriever, return_source_documents=True)"
   ]
  },
  {
   "cell_type": "code",
   "execution_count": null,
   "id": "dcdc1bff",
   "metadata": {},
   "outputs": [],
   "source": [
    "# ret = qa({\"query\": \"黑客帝国有几部？\"})\n",
    "ret = qa({\"query\": query})\n",
    "f\"\\n更多详情，请参考：{get_citations(ret['source_documents'])}\\n\""
   ]
  },
  {
   "cell_type": "code",
   "execution_count": null,
   "id": "8442f039",
   "metadata": {},
   "outputs": [],
   "source": [
    "from langchain.chains import ConversationalRetrievalChain\n",
    "\n",
    "chat_history = []\n",
    "qa = ConversationalRetrievalChain.from_llm(ChatOpenAI(temperature=0), retriever,\n",
    "                                           return_source_documents=True)\n",
    "\n",
    "query = \"怎么申请乐企接入单位？\"\n",
    "result = qa({\"question\": query, \"chat_history\": chat_history})\n",
    "result['answer']"
   ]
  },
  {
   "cell_type": "code",
   "execution_count": null,
   "id": "3996eb6e",
   "metadata": {},
   "outputs": [],
   "source": [
    "chat_history = [(query, result[\"answer\"])]\n",
    "query = \"使用单位呢？\"\n",
    "result = qa({\"question\": query, \"chat_history\": chat_history})\n",
    "result['answer']"
   ]
  },
  {
   "cell_type": "code",
   "execution_count": null,
   "id": "a0634bb5",
   "metadata": {},
   "outputs": [],
   "source": []
  }
 ],
 "metadata": {
  "kernelspec": {
   "display_name": "venv",
   "language": "python",
   "name": "venv"
  },
  "language_info": {
   "codemirror_mode": {
    "name": "ipython",
    "version": 3
   },
   "file_extension": ".py",
   "mimetype": "text/x-python",
   "name": "python",
   "nbconvert_exporter": "python",
   "pygments_lexer": "ipython3",
   "version": "3.10.11"
  }
 },
 "nbformat": 4,
 "nbformat_minor": 5
}
