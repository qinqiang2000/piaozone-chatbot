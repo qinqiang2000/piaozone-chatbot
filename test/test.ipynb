{
 "cells": [
  {
   "cell_type": "code",
   "execution_count": 26,
   "id": "a623de7a",
   "metadata": {},
   "outputs": [
    {
     "ename": "SyntaxError",
     "evalue": "invalid syntax (3547720454.py, line 1)",
     "output_type": "error",
     "traceback": [
      "\u001b[0;36m  Cell \u001b[0;32mIn[26], line 1\u001b[0;36m\u001b[0m\n\u001b[0;31m    pip install faiss-cpu\u001b[0m\n\u001b[0m        ^\u001b[0m\n\u001b[0;31mSyntaxError\u001b[0m\u001b[0;31m:\u001b[0m invalid syntax\n"
     ]
    }
   ],
   "source": [
    "!pip install faiss-cpu\n",
    "!pip install pandas"
   ]
  },
  {
   "cell_type": "code",
   "execution_count": null,
   "id": "63ac0287",
   "metadata": {},
   "outputs": [],
   "source": [
    "import sys\n",
    "sys.path.append(\"..\") #把上级目录加入到变量中\n",
    "from langchain import FAISS\n",
    "from langchain.embeddings import OpenAIEmbeddings\n",
    "from langchain.chat_models import ChatOpenAI\n",
    "import os\n",
    "import logging\n",
    "from config import OPENAI_API_KEY, FAISS_DB_PATH\n",
    "from query_data import get_chain, get_citations\n",
    "\n",
    "\n",
    "sk = \"sk\"\n",
    "dash = \"-\"\n",
    "my_key= \"VgaqoS0BbjxbVN7RFWcJT3BlbkFJYy3W265nnshPERsxhFMy\"\n",
    "os.environ['OPENAI_API_KEY'] = sk + dash + my_key"
   ]
  },
  {
   "cell_type": "code",
   "execution_count": null,
   "id": "85414f0c",
   "metadata": {},
   "outputs": [],
   "source": [
    "# Load from existing index\n",
    "rds = FAISS.load_local(\"../db\", OpenAIEmbeddings())"
   ]
  },
  {
   "cell_type": "code",
   "execution_count": null,
   "id": "b9d63cfc",
   "metadata": {},
   "outputs": [],
   "source": [
    "query = \"星空如何设置单机版纸电一体开票服务？\"\n",
    "results = rds.similarity_search_with_score(query)\n",
    "for r in results:\n",
    "    print(r[0].page_content + \"\\n ========================\")"
   ]
  },
  {
   "cell_type": "code",
   "execution_count": null,
   "id": "a5b372ac",
   "metadata": {},
   "outputs": [],
   "source": [
    "retriever = rds.as_retriever()\n",
    "retriever.search_kwargs['k'] = 3\n",
    "chatbot = get_chain(retriever)\n",
    "# create a chat history buffer\n",
    "chat_history = []"
   ]
  },
  {
   "cell_type": "code",
   "execution_count": null,
   "id": "1585f5d6",
   "metadata": {},
   "outputs": [],
   "source": [
    "# gather user input for the first question to kick off the bot\n",
    "query = \"星空如何设置单机版纸电一体开票服务？\"\n",
    "\n",
    "result = chatbot({\"question\": query, \"chat_history\": chat_history})"
   ]
  },
  {
   "cell_type": "code",
   "execution_count": null,
   "id": "c4f733a0",
   "metadata": {},
   "outputs": [],
   "source": [
    "from langchain.chains import RetrievalQA\n",
    "from langchain.llms import OpenAI\n",
    "qa = RetrievalQA.from_chain_type(llm=ChatOpenAI(temperature=0), chain_type=\"stuff\",\n",
    "                                 retriever=retriever, return_source_documents=True)"
   ]
  },
  {
   "cell_type": "code",
   "execution_count": null,
   "id": "dcdc1bff",
   "metadata": {},
   "outputs": [],
   "source": [
    "# ret = qa({\"query\": \"黑客帝国有几部？\"})\n",
    "ret = qa({\"query\": query})\n",
    "f\"\\n更多详情，请参考：{get_citations(ret['source_documents'])}\\n\""
   ]
  },
  {
   "cell_type": "code",
   "execution_count": null,
   "id": "8442f039",
   "metadata": {},
   "outputs": [],
   "source": [
    "from langchain.chains import ConversationalRetrievalChain\n",
    "\n",
    "chat_history = []\n",
    "qa = ConversationalRetrievalChain.from_llm(ChatOpenAI(temperature=0), retriever,\n",
    "                                           return_source_documents=True)\n",
    "\n",
    "query = \"怎么申请乐企接入单位？\"\n",
    "result = qa({\"question\": query, \"chat_history\": chat_history})\n",
    "result['answer']"
   ]
  },
  {
   "cell_type": "code",
   "execution_count": null,
   "id": "3996eb6e",
   "metadata": {},
   "outputs": [],
   "source": [
    "chat_history = [(query, result[\"answer\"])]\n",
    "query = \"使用单位呢？\"\n",
    "result = qa({\"question\": query, \"chat_history\": chat_history})\n",
    "result['answer']"
   ]
  },
  {
   "cell_type": "code",
   "execution_count": null,
   "id": "a0634bb5",
   "metadata": {},
   "outputs": [],
   "source": [
    "from langchain.chat_models import AzureChatOpenAI\n",
    "from langchain.schema import HumanMessage"
   ]
  },
  {
   "cell_type": "code",
   "execution_count": null,
   "id": "a0c4c076",
   "metadata": {},
   "outputs": [],
   "source": [
    "BASE_URL = \"https://kdtest.openai.azure.com/\"\n",
    "API_KEY = \"173387d3650f473fa7678664df4295ea\"\n",
    "DEPLOYMENT_NAME = \"gpt35\"\n",
    "model = AzureChatOpenAI(\n",
    "    openai_api_base=BASE_URL,\n",
    "    openai_api_version=\"2023-03-15-preview\",\n",
    "    deployment_name=DEPLOYMENT_NAME,\n",
    "    openai_api_key=API_KEY,\n",
    "    openai_api_type = \"azure\",\n",
    ")"
   ]
  },
  {
   "cell_type": "code",
   "execution_count": null,
   "id": "7000fe2d",
   "metadata": {},
   "outputs": [],
   "source": [
    "model([HumanMessage(content=\"Translate this sentence from English to Chinese. I love playing football.\")])"
   ]
  },
  {
   "cell_type": "code",
   "execution_count": null,
   "id": "189ad10a",
   "metadata": {},
   "outputs": [],
   "source": [
    "import os\n",
    "import openai\n",
    "openai.api_type = \"azure\"\n",
    "openai.api_version = \"2023-03-15-preview\" \n",
    "openai.api_base = \"https://kdtest.openai.azure.com\"  # Your Azure OpenAI resource's endpoint value.\n",
    "openai.api_key = \"173387d3650f473fa7678664df4295ea\"\n",
    "\n"
   ]
  },
  {
   "cell_type": "code",
   "execution_count": 5,
   "id": "e779e6f3",
   "metadata": {},
   "outputs": [
    {
     "name": "stdout",
     "output_type": "stream",
     "text": [
      "{\n",
      "  \"data\": [\n",
      "    {\n",
      "      \"scale_settings\": {\n",
      "        \"scale_type\": \"standard\"\n",
      "      },\n",
      "      \"model\": \"gpt-35-turbo\",\n",
      "      \"owner\": \"organization-owner\",\n",
      "      \"id\": \"gpt35\",\n",
      "      \"status\": \"succeeded\",\n",
      "      \"created_at\": 1682495299,\n",
      "      \"updated_at\": 1682495299,\n",
      "      \"object\": \"deployment\"\n",
      "    },\n",
      "    {\n",
      "      \"scale_settings\": {\n",
      "        \"scale_type\": \"standard\"\n",
      "      },\n",
      "      \"model\": \"text-embedding-ada-002\",\n",
      "      \"owner\": \"organization-owner\",\n",
      "      \"id\": \"kdembedding\",\n",
      "      \"status\": \"succeeded\",\n",
      "      \"created_at\": 1682631688,\n",
      "      \"updated_at\": 1682631688,\n",
      "      \"object\": \"deployment\"\n",
      "    }\n",
      "  ],\n",
      "  \"object\": \"list\"\n",
      "}\n"
     ]
    }
   ],
   "source": [
    "import requests\n",
    "\n",
    "url = openai.api_base + \"/openai/deployments?api-version=2022-12-01\" \n",
    "\n",
    "r = requests.get(url, headers={\"api-key\": \"173387d3650f473fa7678664df4295ea\"})\n",
    "\n",
    "print(r.text)"
   ]
  },
  {
   "cell_type": "code",
   "execution_count": null,
   "id": "464c559e",
   "metadata": {},
   "outputs": [],
   "source": [
    "response = openai.ChatCompletion.create(\n",
    "    engine=\"gpt35\", # The deployment name you chose when you deployed the ChatGPT or GPT-4 model.\n",
    "    messages=[\n",
    "        {\"role\": \"system\", \"content\": \"Assistant is a large language model trained by OpenAI.\"},\n",
    "        {\"role\": \"user\", \"content\": \"What's the difference between garbanzo beans and chickpeas?\"}\n",
    "    ]\n",
    ")\n",
    "\n",
    "print(response)\n",
    "\n",
    "print(response['choices'][0]['message']['content'])"
   ]
  },
  {
   "cell_type": "code",
   "execution_count": 7,
   "id": "4bd3ee5c",
   "metadata": {},
   "outputs": [],
   "source": [
    "from langchain.document_loaders.csv_loader import CSVLoader"
   ]
  },
  {
   "cell_type": "code",
   "execution_count": 23,
   "id": "916c201e",
   "metadata": {},
   "outputs": [],
   "source": [
    "loader = CSVLoader(file_path='/Users/qinqiang02/Desktop/fpy知识库/GPT训练知识-知识库导出.csv')\n",
    "data = loader.load()\n",
    "data[2:5]"
   ]
  },
  {
   "cell_type": "code",
   "execution_count": 2,
   "id": "706d8522",
   "metadata": {},
   "outputs": [
    {
     "ename": "ModuleNotFoundError",
     "evalue": "No module named 'pandas'",
     "output_type": "error",
     "traceback": [
      "\u001b[0;31m---------------------------------------------------------------------------\u001b[0m",
      "\u001b[0;31mModuleNotFoundError\u001b[0m                       Traceback (most recent call last)",
      "Cell \u001b[0;32mIn[2], line 1\u001b[0m\n\u001b[0;32m----> 1\u001b[0m \u001b[38;5;28;01mimport\u001b[39;00m \u001b[38;5;21;01mpandas\u001b[39;00m \u001b[38;5;28;01mas\u001b[39;00m \u001b[38;5;21;01mpd\u001b[39;00m\n\u001b[1;32m      3\u001b[0m \u001b[38;5;66;03m# 读取数据文件\u001b[39;00m\n\u001b[1;32m      4\u001b[0m data \u001b[38;5;241m=\u001b[39m pd\u001b[38;5;241m.\u001b[39mread_csv(\u001b[38;5;124m'\u001b[39m\u001b[38;5;124m/Users/qinqiang02/Desktop/fpy知识库/test.csv\u001b[39m\u001b[38;5;124m'\u001b[39m)\n",
      "\u001b[0;31mModuleNotFoundError\u001b[0m: No module named 'pandas'"
     ]
    }
   ],
   "source": [
    "import pandas as pd\n",
    "\n",
    "# 读取数据文件\n",
    "data = pd.read_csv('/Users/qinqiang02/Desktop/fpy知识库/test.csv')\n",
    "\n",
    "# 按照group_column分组\n",
    "grouped = data.groupby('分类')\n",
    "\n",
    "# 遍历每个分组，将其保存为CSV文件\n",
    "for group_name, group_data in grouped:\n",
    "    group_name\n",
    "#     group_data.to_csv(f'{group_name}.csv', index=False)\n"
   ]
  },
  {
   "cell_type": "code",
   "execution_count": null,
   "id": "eaa1c4c9",
   "metadata": {},
   "outputs": [],
   "source": []
  }
 ],
 "metadata": {
  "kernelspec": {
   "display_name": "venv",
   "language": "python",
   "name": "venv"
  },
  "language_info": {
   "codemirror_mode": {
    "name": "ipython",
    "version": 3
   },
   "file_extension": ".py",
   "mimetype": "text/x-python",
   "name": "python",
   "nbconvert_exporter": "python",
   "pygments_lexer": "ipython3",
   "version": "3.10.11"
  }
 },
 "nbformat": 4,
 "nbformat_minor": 5
}
